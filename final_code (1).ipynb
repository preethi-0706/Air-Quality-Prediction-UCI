{
  "nbformat": 4,
  "nbformat_minor": 0,
  "metadata": {
    "colab": {
      "provenance": []
    },
    "kernelspec": {
      "name": "python3",
      "display_name": "Python 3"
    },
    "language_info": {
      "name": "python"
    }
  },
  "cells": [
    {
      "cell_type": "code",
      "execution_count": 2,
      "metadata": {
        "colab": {
          "base_uri": "https://localhost:8080/"
        },
        "id": "M2zjiCqHhZLg",
        "outputId": "93c25dca-0062-4da1-e7b4-0a54f658c43d"
      },
      "outputs": [
        {
          "output_type": "stream",
          "name": "stdout",
          "text": [
            "            Date      Time  CO(GT)  PT08.S1(CO)  NMHC(GT)  C6H6(GT)  \\\n",
            "0     10-03-2004  18.00.00      26         1360       150       119   \n",
            "1     10-03-2004  19.00.00       2         1292       112        94   \n",
            "2     10-03-2004  20.00.00      22         1402        88        90   \n",
            "3     10-03-2004  21.00.00      22         1376        80        92   \n",
            "4     10-03-2004  22.00.00      16         1272        51        65   \n",
            "...          ...       ...     ...          ...       ...       ...   \n",
            "9352  04-04-2005  10.00.00      31         1314      -200       135   \n",
            "9353  04-04-2005  11.00.00      24         1163      -200       114   \n",
            "9354  04-04-2005  12.00.00      24         1142      -200       124   \n",
            "9355  04-04-2005  13.00.00      21         1003      -200        95   \n",
            "9356  04-04-2005  14.00.00      22         1071      -200       119   \n",
            "\n",
            "      PT08.S2(NMHC)  NOx(GT)  PT08.S3(NOx)  NO2(GT)  PT08.S4(NO2)  \\\n",
            "0              1046      166          1056      113          1692   \n",
            "1               955      103          1174       92          1559   \n",
            "2               939      131          1140      114          1555   \n",
            "3               948      172          1092      122          1584   \n",
            "4               836      131          1205      116          1490   \n",
            "...             ...      ...           ...      ...           ...   \n",
            "9352           1101      472           539      190          1374   \n",
            "9353           1027      353           604      179          1264   \n",
            "9354           1063      293           603      175          1241   \n",
            "9355            961      235           702      156          1041   \n",
            "9356           1047      265           654      168          1129   \n",
            "\n",
            "      PT08.S5(O3)    T   RH    AH  \n",
            "0            1268  136  489  7578  \n",
            "1             972  133  477  7255  \n",
            "2            1074  119  540  7502  \n",
            "3            1203  110  600  7867  \n",
            "4            1110  112  596  7888  \n",
            "...           ...  ...  ...   ...  \n",
            "9352         1729  219  293  7568  \n",
            "9353         1269  243  237  7119  \n",
            "9354         1092  269  183  6406  \n",
            "9355          770  283  135  5139  \n",
            "9356          816  285  131  5028  \n",
            "\n",
            "[9357 rows x 15 columns]\n"
          ]
        }
      ],
      "source": [
        "import pandas as pd\n",
        "d=pd.read_csv('/content/AirQualityData.csv.xls')\n",
        "print(d)"
      ]
    },
    {
      "cell_type": "code",
      "source": [
        "x=d.iloc[:,2:14]\n",
        "y=d.iloc[:,14:15]\n",
        "print(x,'\\n',y)"
      ],
      "metadata": {
        "colab": {
          "base_uri": "https://localhost:8080/"
        },
        "id": "ewBNJjdDjjwV",
        "outputId": "0f5b16a2-2008-45e1-b18a-274f0ba3c724"
      },
      "execution_count": 3,
      "outputs": [
        {
          "output_type": "stream",
          "name": "stdout",
          "text": [
            "      CO(GT)  PT08.S1(CO)  NMHC(GT)  C6H6(GT)  PT08.S2(NMHC)  NOx(GT)  \\\n",
            "0         26         1360       150       119           1046      166   \n",
            "1          2         1292       112        94            955      103   \n",
            "2         22         1402        88        90            939      131   \n",
            "3         22         1376        80        92            948      172   \n",
            "4         16         1272        51        65            836      131   \n",
            "...      ...          ...       ...       ...            ...      ...   \n",
            "9352      31         1314      -200       135           1101      472   \n",
            "9353      24         1163      -200       114           1027      353   \n",
            "9354      24         1142      -200       124           1063      293   \n",
            "9355      21         1003      -200        95            961      235   \n",
            "9356      22         1071      -200       119           1047      265   \n",
            "\n",
            "      PT08.S3(NOx)  NO2(GT)  PT08.S4(NO2)  PT08.S5(O3)    T   RH  \n",
            "0             1056      113          1692         1268  136  489  \n",
            "1             1174       92          1559          972  133  477  \n",
            "2             1140      114          1555         1074  119  540  \n",
            "3             1092      122          1584         1203  110  600  \n",
            "4             1205      116          1490         1110  112  596  \n",
            "...            ...      ...           ...          ...  ...  ...  \n",
            "9352           539      190          1374         1729  219  293  \n",
            "9353           604      179          1264         1269  243  237  \n",
            "9354           603      175          1241         1092  269  183  \n",
            "9355           702      156          1041          770  283  135  \n",
            "9356           654      168          1129          816  285  131  \n",
            "\n",
            "[9357 rows x 12 columns] \n",
            "         AH\n",
            "0     7578\n",
            "1     7255\n",
            "2     7502\n",
            "3     7867\n",
            "4     7888\n",
            "...    ...\n",
            "9352  7568\n",
            "9353  7119\n",
            "9354  6406\n",
            "9355  5139\n",
            "9356  5028\n",
            "\n",
            "[9357 rows x 1 columns]\n"
          ]
        }
      ]
    },
    {
      "cell_type": "code",
      "source": [
        "from sklearn.model_selection import train_test_split                                                        \n",
        "X_train,x_test,y_train,y_test=train_test_split(x,y,test_size=0.20,random_state=2)\n",
        "print(X_train.shape)\n",
        "print(y_train.shape)\n",
        "print(x_test.shape)\n",
        "print(y_test.shape)"
      ],
      "metadata": {
        "colab": {
          "base_uri": "https://localhost:8080/"
        },
        "id": "wCc8ijlVkp9q",
        "outputId": "a7b2b05d-79cd-4ae3-dd53-0b6bdbc154da"
      },
      "execution_count": 4,
      "outputs": [
        {
          "output_type": "stream",
          "name": "stdout",
          "text": [
            "(7485, 12)\n",
            "(7485, 1)\n",
            "(1872, 12)\n",
            "(1872, 1)\n"
          ]
        }
      ]
    },
    {
      "cell_type": "code",
      "source": [
        "import numpy as np\n",
        "from sklearn.metrics import mean_squared_error,r2_score,mean_absolute_error \n",
        "from sklearn.linear_model import Lasso\n",
        "model_lasso= Lasso(alpha=0.01)\n",
        "model_lasso.fit(x,y) \n",
        "pred_train_lasso= model_lasso.predict(x_test)\n",
        "print(np.sqrt(mean_squared_error(y_test,pred_train_lasso)))\n",
        "print(mean_squared_error(y_test,pred_train_lasso))\n",
        "print(mean_absolute_error(y_test,pred_train_lasso))"
      ],
      "metadata": {
        "colab": {
          "base_uri": "https://localhost:8080/"
        },
        "id": "JUeGGyQHk7Bg",
        "outputId": "36e42bb8-6917-46f1-dc37-f797c44f6445"
      },
      "execution_count": 5,
      "outputs": [
        {
          "output_type": "stream",
          "name": "stdout",
          "text": [
            "1239.0342664090615\n",
            "1535205.9133358411\n",
            "949.4857486975978\n"
          ]
        }
      ]
    },
    {
      "cell_type": "code",
      "source": [
        "from sklearn.linear_model import Ridge \n",
        "rr= Ridge(alpha=0.01)\n",
        "rr.fit(X_train, y_train) \n",
        "pred_train_rr= rr.predict(X_train)\n",
        "print(np.sqrt(mean_squared_error(y_train,pred_train_rr)))\n",
        "print(mean_squared_error(y_train,pred_train_rr))\n",
        "print(mean_absolute_error(y_train,pred_train_rr))\n",
        "print(r2_score(y_train, pred_train_rr))"
      ],
      "metadata": {
        "colab": {
          "base_uri": "https://localhost:8080/"
        },
        "id": "X3c-5wObmQUC",
        "outputId": "8e1e9e39-442d-4409-8e21-a82e0ed1a7d7"
      },
      "execution_count": 6,
      "outputs": [
        {
          "output_type": "stream",
          "name": "stdout",
          "text": [
            "1237.7239621929712\n",
            "1531960.6065866677\n",
            "951.9851514043202\n",
            "0.9229612462194432\n"
          ]
        }
      ]
    },
    {
      "cell_type": "code",
      "source": [
        "from sklearn.linear_model import LinearRegression\n",
        "model = LinearRegression()\n",
        "model.fit(x, y)\n",
        "model = LinearRegression().fit(x, y)\n",
        "r_sq = model.score(x, y)\n",
        "print(f\"coefficient of determination: {r_sq}\")\n",
        "\n",
        "print(f\"intercept: {model.intercept_}\")\n",
        "\n",
        "print(f\"coefficients: {model.coef_}\")"
      ],
      "metadata": {
        "colab": {
          "base_uri": "https://localhost:8080/"
        },
        "id": "i0i0xq2pmdKW",
        "outputId": "5c6a4bd6-5eee-4ce5-ae63-cf7e9d5e6b8b"
      },
      "execution_count": 7,
      "outputs": [
        {
          "output_type": "stream",
          "name": "stdout",
          "text": [
            "coefficient of determination: 0.9224869977390089\n",
            "intercept: [-2140.30992221]\n",
            "coefficients: [[-0.08792714 -1.62269594 -1.63535812 -5.42266611 -5.7074121   1.76915348\n",
            "  -3.09424625 -3.2151558   5.57071486  0.49557532 37.7226099  13.75921749]]\n"
          ]
        }
      ]
    },
    {
      "cell_type": "code",
      "source": [
        "from sklearn import linear_model\n",
        "from sklearn.metrics import mean_squared_error,mean_absolute_error\n",
        "reg_all=linear_model.LinearRegression()\n",
        "reg_all.fit(X_train,y_train)\n",
        "y_pred=reg_all.predict(x_test)\n",
        "Rsquare=reg_all.score(x_test,y_test)\n",
        "print(\"Rsquare:\",Rsquare)\n",
        "print(\"Intercept:\",reg_all.intercept_)\n",
        "mse=mean_squared_error(y_test,y_pred)\n",
        "print(\"mse:\",mse)\n",
        "mae = mean_absolute_error(y_test,y_pred)\n",
        "print(\"mae:\",mae)\n"
      ],
      "metadata": {
        "colab": {
          "base_uri": "https://localhost:8080/"
        },
        "id": "Pg8_bSpImukC",
        "outputId": "07f8ea77-9724-4dec-a457-e1e3766fbcb7"
      },
      "execution_count": 8,
      "outputs": [
        {
          "output_type": "stream",
          "name": "stdout",
          "text": [
            "Rsquare: 0.9204097045960383\n",
            "Intercept: [-2006.80673773]\n",
            "mse: 1537936.4601567541\n",
            "mae: 951.4775893744574\n"
          ]
        }
      ]
    }
  ]
}